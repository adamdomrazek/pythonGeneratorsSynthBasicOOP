{
 "cells": [
  {
   "cell_type": "code",
   "execution_count": null,
   "metadata": {},
   "outputs": [],
   "source": [
    "import matplotlib.pyplot as plt\n",
    "import numpy as np\n",
    "\n",
    "from synth import oscillators as oscry\n",
    "from synth import helpers\n",
    "from synth import signalOperations as sigop\n",
    "from synthHelpers import prettyFigures as pf\n"
   ]
  },
  {
   "cell_type": "code",
   "execution_count": null,
   "metadata": {},
   "outputs": [],
   "source": [
    "from synth import ADSR"
   ]
  },
  {
   "cell_type": "code",
   "execution_count": null,
   "metadata": {},
   "outputs": [],
   "source": [
    "# Quick wave config\n",
    "sampl_rate  = 44_100\n",
    "freq        = 400\n",
    "phase       = 0\n",
    "ampl        = 1\n",
    "duration    = 1\n",
    "plotStopTime = 20e-3\n",
    "\n",
    "osc = oscry.SineOscillator(freq=freq, phase=0, ampl=1, sampling_rate=sampl_rate, wave_range=(-1, 1))\n",
    "osc_sig = osc.getValues(simTime=duration)\n",
    "\n",
    "osc_sig_plot = osc_sig[0:int(sampl_rate*plotStopTime)]\n",
    "n = np.linspace(0, plotStopTime, osc_sig_plot.shape[-1])"
   ]
  },
  {
   "cell_type": "code",
   "execution_count": null,
   "metadata": {},
   "outputs": [],
   "source": [
    "mod = ADSR.ADSR_Envelope(sampl_rate,\n",
    "                         attack_duration=0.005,\n",
    "                         decay_duration=0.005,\n",
    "                         release_duration=0.3,\n",
    "                         sustain_level=0.7)\n"
   ]
  },
  {
   "cell_type": "code",
   "execution_count": null,
   "metadata": {},
   "outputs": [],
   "source": [
    "modulated_sig = mod_sig*osc_sig\n",
    "modulated_sig_plot = modulated_sig[0:int(sampl_rate*plotStopTime)]\n"
   ]
  },
  {
   "cell_type": "code",
   "execution_count": null,
   "metadata": {},
   "outputs": [],
   "source": [
    "pf.plot( (n, mod_sig_plot),\n",
    "        major_ticks=(0.005,0.25),\n",
    "        minor_ticks=(5, 2),\n",
    "        label='sine wave',\n",
    "        _figsize=(7, 3))\n",
    "plt.show()"
   ]
  },
  {
   "cell_type": "code",
   "execution_count": null,
   "metadata": {},
   "outputs": [],
   "source": [
    "pf.plot( (n, osc_sig_plot),\n",
    "        major_ticks=(0.005,0.25),\n",
    "        minor_ticks=(5, 2),\n",
    "        label='sine wave',\n",
    "        _figsize=(7, 3))\n",
    "plt.show()"
   ]
  },
  {
   "cell_type": "code",
   "execution_count": null,
   "metadata": {},
   "outputs": [],
   "source": [
    "pf.plot( (n, modulated_sig_plot, n, mod_sig_plot),\n",
    "        major_ticks=(0.005,0.25),\n",
    "        minor_ticks=(5, 2),\n",
    "        label='sine wave',\n",
    "        _figsize=(7, 3))\n",
    "plt.show()"
   ]
  },
  {
   "cell_type": "code",
   "execution_count": null,
   "metadata": {},
   "outputs": [],
   "source": []
  },
  {
   "cell_type": "code",
   "execution_count": null,
   "metadata": {},
   "outputs": [],
   "source": []
  }
 ],
 "metadata": {
  "kernelspec": {
   "display_name": "Python 3",
   "language": "python",
   "name": "python3"
  },
  "language_info": {
   "codemirror_mode": {
    "name": "ipython",
    "version": 3
   },
   "file_extension": ".py",
   "mimetype": "text/x-python",
   "name": "python",
   "nbconvert_exporter": "python",
   "pygments_lexer": "ipython3",
   "version": "3.9.15"
  },
  "orig_nbformat": 4,
  "vscode": {
   "interpreter": {
    "hash": "1842ca5136b42ff84b54c39f9ccea84b5aae13218a8a223450d4705f08f3e9d1"
   }
  }
 },
 "nbformat": 4,
 "nbformat_minor": 2
}
